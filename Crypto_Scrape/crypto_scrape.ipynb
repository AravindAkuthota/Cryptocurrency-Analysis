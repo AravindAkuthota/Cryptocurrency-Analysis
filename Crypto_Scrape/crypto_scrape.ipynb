{
 "cells": [
  {
   "cell_type": "code",
   "execution_count": 1,
   "id": "dd716dbe",
   "metadata": {},
   "outputs": [],
   "source": [
    "# Imports\n",
    "from splinter import Browser\n",
    "from bs4 import BeautifulSoup as soup\n",
    "import pandas as pd\n",
    "from webdriver_manager.chrome import ChromeDriverManager"
   ]
  },
  {
   "cell_type": "code",
   "execution_count": 2,
   "id": "8f332866",
   "metadata": {},
   "outputs": [
    {
     "name": "stderr",
     "output_type": "stream",
     "text": [
      "[WDM] - \n",
      "\n",
      "[WDM] - ====== WebDriver manager ======\n",
      "[WDM] - Current google-chrome version is 97.0.4692\n",
      "[WDM] - Get LATEST driver version for 97.0.4692\n",
      "[WDM] - There is no [mac64] chromedriver for browser 97.0.4692 in cache\n",
      "[WDM] - Get LATEST driver version for 97.0.4692\n",
      "[WDM] - Trying to download new driver from https://chromedriver.storage.googleapis.com/97.0.4692.71/chromedriver_mac64.zip\n",
      "[WDM] - Driver has been saved in cache [/Users/robertyokabaskas/.wdm/drivers/chromedriver/mac64/97.0.4692.71]\n"
     ]
    }
   ],
   "source": [
    "# Set the executable path and initialize Splinter\n",
    "executable_path = {'executable_path': ChromeDriverManager().install()}\n",
    "browser = Browser('chrome', **executable_path, headless=False)"
   ]
  },
  {
   "cell_type": "code",
   "execution_count": 12,
   "id": "af262e4b",
   "metadata": {},
   "outputs": [],
   "source": [
    "# Visit Coinbase\n",
    "url = 'https://www.coinbase.com/price/bitcoin'\n",
    "browser.visit(url)"
   ]
  },
  {
   "cell_type": "code",
   "execution_count": 13,
   "id": "c4fd3944",
   "metadata": {},
   "outputs": [],
   "source": [
    "# Convert Browser to Soup\n",
    "html = browser.html\n",
    "\n",
    "bitcoin_soup = soup(html, 'html.parser')"
   ]
  },
  {
   "cell_type": "code",
   "execution_count": 16,
   "id": "7832d271",
   "metadata": {},
   "outputs": [
    {
     "name": "stdout",
     "output_type": "stream",
     "text": [
      "The current price of Bitcoin is 42,542\n"
     ]
    }
   ],
   "source": [
    "# Find Pricing\n",
    "bitcoin = coin_soup.find(\"span\", class_='AssetChartAmount__Number-sc-1b4douf-1 foyTCz').get_text()\n",
    "\n",
    "print(f\"The current price of Bitcoin is {bitcoin}\")"
   ]
  },
  {
   "cell_type": "code",
   "execution_count": 17,
   "id": "af834d7e",
   "metadata": {},
   "outputs": [],
   "source": [
    "url = \"https://www.coinbase.com/price\"\n",
    "\n",
    "browser.visit(url)"
   ]
  },
  {
   "cell_type": "code",
   "execution_count": 18,
   "id": "8b8ead69",
   "metadata": {},
   "outputs": [],
   "source": [
    "html = browser.html\n",
    "\n",
    "prices_soup = soup(html, 'html.parser')"
   ]
  },
  {
   "cell_type": "code",
   "execution_count": 22,
   "id": "11639c11",
   "metadata": {},
   "outputs": [
    {
     "name": "stdout",
     "output_type": "stream",
     "text": [
      "The current price of Bitcoin is $42,575.05\n"
     ]
    }
   ],
   "source": [
    "bitcoin_price = prices_soup.find(\"span\", class_ = 'TextElement__Spacer-hxkcw5-0 cicsNy Header__StyledHeader-sc-1xiyexz-0 dWwkYJ AssetTableRowDense__StyledHeader-sc-14h1499-14 AssetTableRowDense__TabularNumeric-sc-14h1499-18 bxoSRw').get_text()\n",
    "\n",
    "\n",
    "print(f\"The current price of Bitcoin is {bitcoin_price}\")"
   ]
  },
  {
   "cell_type": "code",
   "execution_count": null,
   "id": "7a62c19c",
   "metadata": {},
   "outputs": [],
   "source": []
  }
 ],
 "metadata": {
  "kernelspec": {
   "display_name": "Python 3 (ipykernel)",
   "language": "python",
   "name": "python3"
  },
  "language_info": {
   "codemirror_mode": {
    "name": "ipython",
    "version": 3
   },
   "file_extension": ".py",
   "mimetype": "text/x-python",
   "name": "python",
   "nbconvert_exporter": "python",
   "pygments_lexer": "ipython3",
   "version": "3.9.7"
  }
 },
 "nbformat": 4,
 "nbformat_minor": 5
}
