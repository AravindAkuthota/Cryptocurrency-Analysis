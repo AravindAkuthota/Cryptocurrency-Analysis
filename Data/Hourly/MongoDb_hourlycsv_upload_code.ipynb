{
 "cells": [
  {
   "cell_type": "markdown",
   "id": "0c085753",
   "metadata": {},
   "source": [
    "# Moving hourly csv files to MongoDB Atlas Hourly_Cryptocompare DB"
   ]
  },
  {
   "cell_type": "code",
   "execution_count": 1,
   "id": "4014b5b8",
   "metadata": {},
   "outputs": [],
   "source": [
    "# import libraries\n",
    "import pandas as pd\n",
    "import numpy as np\n",
    "import pymongo\n",
    "from pymongo import MongoClient\n",
    "import certifi\n",
    "from mongo_config import mongo_uri"
   ]
  },
  {
   "cell_type": "markdown",
   "id": "674388e3",
   "metadata": {},
   "source": [
    "# Storing dataframe in MongoDB (DB name : Hourly_Cryptocompare)"
   ]
  },
  {
   "cell_type": "code",
   "execution_count": 2,
   "id": "2f890315",
   "metadata": {},
   "outputs": [
    {
     "name": "stdout",
     "output_type": "stream",
     "text": [
      "['Finale', 'Hourly_Cryptocompare', 'admin', 'local']\n"
     ]
    }
   ],
   "source": [
    "# defining mongodb uri\n",
    "\n",
    "symbols=['BTC','ETH','XRP','USDT','ADA','XMR','XLM','BUSD','LTC','DOGE']\n",
    "\n",
    "client = MongoClient(mongo_uri,tlsCAFile=certifi.where())\n",
    "db = client['Hourly_Cryptocompare']\n",
    "print(client.list_database_names())"
   ]
  },
  {
   "cell_type": "code",
   "execution_count": 58,
   "id": "0d3cbd4d",
   "metadata": {},
   "outputs": [],
   "source": [
    "# creating for loop for creating df from csv, adding symbol column and then uploading in mongodb\n",
    "for symbol in symbols:    \n",
    "    dataframe = pd.read_csv(\"hourly_\"+symbol+\".csv\")\n",
    "    dataframe[\"Symbol\"] = symbol \n",
    "    collection = db[symbol]\n",
    "    dataframe.reset_index(inplace=True)\n",
    "    dataframe_dict = dataframe.to_dict(\"records\")\n",
    "    collection.insert_many(dataframe_dict)"
   ]
  },
  {
   "cell_type": "code",
   "execution_count": 3,
   "id": "8238143a",
   "metadata": {},
   "outputs": [
    {
     "name": "stderr",
     "output_type": "stream",
     "text": [
      "C:\\Users\\lavin\\anaconda3\\envs\\mlenv\\lib\\site-packages\\IPython\\core\\interactiveshell.py:3444: DtypeWarning: Columns (8) have mixed types.Specify dtype option on import or set low_memory=False.\n",
      "  exec(code_obj, self.user_global_ns, self.user_ns)\n"
     ]
    },
    {
     "name": "stdout",
     "output_type": "stream",
     "text": [
      "               time      high       low      open  volumefrom     volumeto  \\\n",
      "0        1642057200  43735.39  43688.63  43734.62       39.20   1713789.04   \n",
      "1        1642053600  43811.35  43678.92  43702.67      338.12  14792421.59   \n",
      "2        1642050000  43773.19  43604.64  43649.09      364.41  15917215.73   \n",
      "3        1642046400  43731.93  43508.80  43527.81      490.16  21397604.68   \n",
      "4        1642042800  43653.13  43446.12  43609.92      715.54  31140675.33   \n",
      "...             ...       ...       ...       ...         ...          ...   \n",
      "1140564  1231473600      0.00      0.00      0.00        0.00         0.00   \n",
      "1140565  1231470000      0.00      0.00      0.00        0.00         0.00   \n",
      "1140566  1231466400      0.00      0.00      0.00        0.00         0.00   \n",
      "1140567  1231462800      0.00      0.00      0.00        0.00         0.00   \n",
      "1140568  1231459200      0.00      0.00      0.00        0.00         0.00   \n",
      "\n",
      "            close conversionType conversionSymbol Symbol  \n",
      "0        43727.60         direct              NaN    BTC  \n",
      "1        43734.62         direct              NaN    BTC  \n",
      "2        43702.67         direct              NaN    BTC  \n",
      "3        43649.09         direct              NaN    BTC  \n",
      "4        43527.81         direct              NaN    BTC  \n",
      "...           ...            ...              ...    ...  \n",
      "1140564      0.00         direct              NaN   DOGE  \n",
      "1140565      0.00         direct              NaN   DOGE  \n",
      "1140566      0.00         direct              NaN   DOGE  \n",
      "1140567      0.00         direct              NaN   DOGE  \n",
      "1140568      0.00         direct              NaN   DOGE  \n",
      "\n",
      "[1140569 rows x 10 columns]\n"
     ]
    }
   ],
   "source": [
    "All_coins_hourly_df = pd.DataFrame()\n",
    "\n",
    "for symbol in symbols:\n",
    "    dataframe = pd.read_csv(\"hourly_\"+symbol+\".csv\")\n",
    "    dataframe[\"Symbol\"] = symbol\n",
    "    #append the new df\n",
    "    All_coins_hourly_df = All_coins_hourly_df.append(dataframe, ignore_index = True)\n",
    "\n",
    "print(All_coins_hourly_df)"
   ]
  },
  {
   "cell_type": "code",
   "execution_count": 4,
   "id": "bbddc7f7",
   "metadata": {},
   "outputs": [
    {
     "data": {
      "text/plain": [
       "<pymongo.results.InsertManyResult at 0x1ac64d66880>"
      ]
     },
     "execution_count": 4,
     "metadata": {},
     "output_type": "execute_result"
    }
   ],
   "source": [
    "collection = db['All_coins_hourly']\n",
    "All_coins_hourly_df.reset_index(inplace=True)\n",
    "All_coins_hourly_df_dict = All_coins_hourly_df.to_dict(\"records\")\n",
    "collection.insert_many(All_coins_hourly_df_dict)"
   ]
  },
  {
   "cell_type": "code",
   "execution_count": null,
   "id": "398e47a8",
   "metadata": {},
   "outputs": [],
   "source": []
  }
 ],
 "metadata": {
  "kernelspec": {
   "display_name": "mlenv",
   "language": "python",
   "name": "mlenv"
  },
  "language_info": {
   "codemirror_mode": {
    "name": "ipython",
    "version": 3
   },
   "file_extension": ".py",
   "mimetype": "text/x-python",
   "name": "python",
   "nbconvert_exporter": "python",
   "pygments_lexer": "ipython3",
   "version": "3.9.7"
  }
 },
 "nbformat": 4,
 "nbformat_minor": 5
}
