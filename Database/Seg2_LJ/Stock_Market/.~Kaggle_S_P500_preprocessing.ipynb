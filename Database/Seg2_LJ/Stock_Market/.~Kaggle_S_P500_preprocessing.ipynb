{
 "cells": [
  {
   "cell_type": "markdown",
   "id": "89f4bd4f",
   "metadata": {},
   "source": [
    "# Extracting Data from www.kaggle.com and preprocessing and saving onto a MongoDB database"
   ]
  },
  {
   "cell_type": "code",
   "execution_count": 3,
   "id": "d1ccf2ba-80bb-46ee-8943-f163acaf55c2",
   "metadata": {},
   "outputs": [],
   "source": [
    "# import libraries\n",
    "import pandas as pd\n",
    "import numpy as np\n",
    "import pymongo\n",
    "from pymongo import MongoClient\n",
    "import certifi\n",
    "from mongo2_config import mongo_uri"
   ]
  },
  {
   "cell_type": "code",
   "execution_count": 4,
   "id": "1f556aea-dfe7-470c-805e-b2594ff0ffee",
   "metadata": {},
   "outputs": [
    {
     "data": {
      "text/html": [
       "<div>\n",
       "<style scoped>\n",
       "    .dataframe tbody tr th:only-of-type {\n",
       "        vertical-align: middle;\n",
       "    }\n",
       "\n",
       "    .dataframe tbody tr th {\n",
       "        vertical-align: top;\n",
       "    }\n",
       "\n",
       "    .dataframe thead th {\n",
       "        text-align: right;\n",
       "    }\n",
       "</style>\n",
       "<table border=\"1\" class=\"dataframe\">\n",
       "  <thead>\n",
       "    <tr style=\"text-align: right;\">\n",
       "      <th></th>\n",
       "      <th>Date</th>\n",
       "      <th>Open</th>\n",
       "      <th>High</th>\n",
       "      <th>Low</th>\n",
       "      <th>Close</th>\n",
       "      <th>Adj Close</th>\n",
       "      <th>Volume</th>\n",
       "    </tr>\n",
       "  </thead>\n",
       "  <tbody>\n",
       "    <tr>\n",
       "      <th>0</th>\n",
       "      <td>1927-12-30</td>\n",
       "      <td>17.660000</td>\n",
       "      <td>17.660000</td>\n",
       "      <td>17.660000</td>\n",
       "      <td>17.660000</td>\n",
       "      <td>17.660000</td>\n",
       "      <td>0</td>\n",
       "    </tr>\n",
       "    <tr>\n",
       "      <th>1</th>\n",
       "      <td>1928-01-03</td>\n",
       "      <td>17.760000</td>\n",
       "      <td>17.760000</td>\n",
       "      <td>17.760000</td>\n",
       "      <td>17.760000</td>\n",
       "      <td>17.760000</td>\n",
       "      <td>0</td>\n",
       "    </tr>\n",
       "    <tr>\n",
       "      <th>2</th>\n",
       "      <td>1928-01-04</td>\n",
       "      <td>17.719999</td>\n",
       "      <td>17.719999</td>\n",
       "      <td>17.719999</td>\n",
       "      <td>17.719999</td>\n",
       "      <td>17.719999</td>\n",
       "      <td>0</td>\n",
       "    </tr>\n",
       "    <tr>\n",
       "      <th>3</th>\n",
       "      <td>1928-01-05</td>\n",
       "      <td>17.549999</td>\n",
       "      <td>17.549999</td>\n",
       "      <td>17.549999</td>\n",
       "      <td>17.549999</td>\n",
       "      <td>17.549999</td>\n",
       "      <td>0</td>\n",
       "    </tr>\n",
       "    <tr>\n",
       "      <th>4</th>\n",
       "      <td>1928-01-06</td>\n",
       "      <td>17.660000</td>\n",
       "      <td>17.660000</td>\n",
       "      <td>17.660000</td>\n",
       "      <td>17.660000</td>\n",
       "      <td>17.660000</td>\n",
       "      <td>0</td>\n",
       "    </tr>\n",
       "    <tr>\n",
       "      <th>...</th>\n",
       "      <td>...</td>\n",
       "      <td>...</td>\n",
       "      <td>...</td>\n",
       "      <td>...</td>\n",
       "      <td>...</td>\n",
       "      <td>...</td>\n",
       "      <td>...</td>\n",
       "    </tr>\n",
       "    <tr>\n",
       "      <th>23318</th>\n",
       "      <td>2020-10-29</td>\n",
       "      <td>3277.169922</td>\n",
       "      <td>3341.050049</td>\n",
       "      <td>3259.820068</td>\n",
       "      <td>3310.110107</td>\n",
       "      <td>3310.110107</td>\n",
       "      <td>4903070000</td>\n",
       "    </tr>\n",
       "    <tr>\n",
       "      <th>23319</th>\n",
       "      <td>2020-10-30</td>\n",
       "      <td>3293.590088</td>\n",
       "      <td>3304.929932</td>\n",
       "      <td>3233.939941</td>\n",
       "      <td>3269.959961</td>\n",
       "      <td>3269.959961</td>\n",
       "      <td>4840450000</td>\n",
       "    </tr>\n",
       "    <tr>\n",
       "      <th>23320</th>\n",
       "      <td>2020-11-02</td>\n",
       "      <td>3296.199951</td>\n",
       "      <td>3330.139893</td>\n",
       "      <td>3279.739990</td>\n",
       "      <td>3310.239990</td>\n",
       "      <td>3310.239990</td>\n",
       "      <td>4310590000</td>\n",
       "    </tr>\n",
       "    <tr>\n",
       "      <th>23321</th>\n",
       "      <td>2020-11-03</td>\n",
       "      <td>3336.250000</td>\n",
       "      <td>3389.489990</td>\n",
       "      <td>3336.250000</td>\n",
       "      <td>3369.159912</td>\n",
       "      <td>3369.159912</td>\n",
       "      <td>4220070000</td>\n",
       "    </tr>\n",
       "    <tr>\n",
       "      <th>23322</th>\n",
       "      <td>2020-11-04</td>\n",
       "      <td>3406.459961</td>\n",
       "      <td>3486.250000</td>\n",
       "      <td>3405.169922</td>\n",
       "      <td>3443.439941</td>\n",
       "      <td>3443.439941</td>\n",
       "      <td>4783040000</td>\n",
       "    </tr>\n",
       "  </tbody>\n",
       "</table>\n",
       "<p>23323 rows × 7 columns</p>\n",
       "</div>"
      ],
      "text/plain": [
       "             Date         Open         High          Low        Close  \\\n",
       "0      1927-12-30    17.660000    17.660000    17.660000    17.660000   \n",
       "1      1928-01-03    17.760000    17.760000    17.760000    17.760000   \n",
       "2      1928-01-04    17.719999    17.719999    17.719999    17.719999   \n",
       "3      1928-01-05    17.549999    17.549999    17.549999    17.549999   \n",
       "4      1928-01-06    17.660000    17.660000    17.660000    17.660000   \n",
       "...           ...          ...          ...          ...          ...   \n",
       "23318  2020-10-29  3277.169922  3341.050049  3259.820068  3310.110107   \n",
       "23319  2020-10-30  3293.590088  3304.929932  3233.939941  3269.959961   \n",
       "23320  2020-11-02  3296.199951  3330.139893  3279.739990  3310.239990   \n",
       "23321  2020-11-03  3336.250000  3389.489990  3336.250000  3369.159912   \n",
       "23322  2020-11-04  3406.459961  3486.250000  3405.169922  3443.439941   \n",
       "\n",
       "         Adj Close      Volume  \n",
       "0        17.660000           0  \n",
       "1        17.760000           0  \n",
       "2        17.719999           0  \n",
       "3        17.549999           0  \n",
       "4        17.660000           0  \n",
       "...            ...         ...  \n",
       "23318  3310.110107  4903070000  \n",
       "23319  3269.959961  4840450000  \n",
       "23320  3310.239990  4310590000  \n",
       "23321  3369.159912  4220070000  \n",
       "23322  3443.439941  4783040000  \n",
       "\n",
       "[23323 rows x 7 columns]"
      ]
     },
     "execution_count": 4,
     "metadata": {},
     "output_type": "execute_result"
    }
   ],
   "source": [
    "# create a dataframe from the csv\n",
    "path =\"C:/UC_Berkeley\\Analysis_Projects_Class_Folder/Module20_Final_Project\\Data_Kaggle_Historical/SPX.csv\"\n",
    "df = pd.read_csv(path)\n",
    "df"
   ]
  },
  {
   "cell_type": "code",
   "execution_count": 6,
   "id": "4480e781",
   "metadata": {},
   "outputs": [
    {
     "data": {
      "text/plain": [
       "Date         0\n",
       "Open         0\n",
       "High         0\n",
       "Low          0\n",
       "Close        0\n",
       "Adj Close    0\n",
       "Volume       0\n",
       "dtype: int64"
      ]
     },
     "execution_count": 6,
     "metadata": {},
     "output_type": "execute_result"
    }
   ],
   "source": [
    "# checking for mull values\n",
    "df.isnull().sum().sum()\n",
    "df.isna().sum()"
   ]
  },
  {
   "cell_type": "code",
   "execution_count": 7,
   "id": "11e83119-1f88-4086-b9d1-89be28c9139e",
   "metadata": {},
   "outputs": [],
   "source": [
    "# converting date to datetime format\n",
    "df['Date'] = pd.to_datetime(df['Date'])"
   ]
  },
  {
   "cell_type": "code",
   "execution_count": 8,
   "id": "a7240dc9-8337-4296-a77c-e526f14289db",
   "metadata": {},
   "outputs": [],
   "source": [
    "# data being analyzed for last five years, so filtering data for that date range\n",
    "start = '2016-07-06'\n",
    "end = '2021-07-06'"
   ]
  },
  {
   "cell_type": "code",
   "execution_count": 9,
   "id": "61990f9d-03d2-4e8e-a3a7-1ce7bc751c77",
   "metadata": {},
   "outputs": [],
   "source": [
    "# creating a variable to store that date range\n",
    "fiveyears = (df['Date']>start) & (df['Date']<= end)"
   ]
  },
  {
   "cell_type": "code",
   "execution_count": 10,
   "id": "0ec347de-1dfd-464d-b8e0-48252547f7ad",
   "metadata": {
    "scrolled": true
   },
   "outputs": [
    {
     "data": {
      "text/html": [
       "<div>\n",
       "<style scoped>\n",
       "    .dataframe tbody tr th:only-of-type {\n",
       "        vertical-align: middle;\n",
       "    }\n",
       "\n",
       "    .dataframe tbody tr th {\n",
       "        vertical-align: top;\n",
       "    }\n",
       "\n",
       "    .dataframe thead th {\n",
       "        text-align: right;\n",
       "    }\n",
       "</style>\n",
       "<table border=\"1\" class=\"dataframe\">\n",
       "  <thead>\n",
       "    <tr style=\"text-align: right;\">\n",
       "      <th></th>\n",
       "      <th>Date</th>\n",
       "      <th>Open</th>\n",
       "      <th>High</th>\n",
       "      <th>Low</th>\n",
       "      <th>Close</th>\n",
       "      <th>Adj Close</th>\n",
       "      <th>Volume</th>\n",
       "    </tr>\n",
       "  </thead>\n",
       "  <tbody>\n",
       "    <tr>\n",
       "      <th>22231</th>\n",
       "      <td>2016-07-07</td>\n",
       "      <td>2100.419922</td>\n",
       "      <td>2109.080078</td>\n",
       "      <td>2089.389893</td>\n",
       "      <td>2097.899902</td>\n",
       "      <td>2097.899902</td>\n",
       "      <td>3604550000</td>\n",
       "    </tr>\n",
       "    <tr>\n",
       "      <th>22232</th>\n",
       "      <td>2016-07-08</td>\n",
       "      <td>2106.969971</td>\n",
       "      <td>2131.709961</td>\n",
       "      <td>2106.969971</td>\n",
       "      <td>2129.899902</td>\n",
       "      <td>2129.899902</td>\n",
       "      <td>3607500000</td>\n",
       "    </tr>\n",
       "    <tr>\n",
       "      <th>22233</th>\n",
       "      <td>2016-07-11</td>\n",
       "      <td>2131.719971</td>\n",
       "      <td>2143.159912</td>\n",
       "      <td>2131.719971</td>\n",
       "      <td>2137.159912</td>\n",
       "      <td>2137.159912</td>\n",
       "      <td>3253340000</td>\n",
       "    </tr>\n",
       "    <tr>\n",
       "      <th>22234</th>\n",
       "      <td>2016-07-12</td>\n",
       "      <td>2139.500000</td>\n",
       "      <td>2155.399902</td>\n",
       "      <td>2139.500000</td>\n",
       "      <td>2152.139893</td>\n",
       "      <td>2152.139893</td>\n",
       "      <td>4097820000</td>\n",
       "    </tr>\n",
       "    <tr>\n",
       "      <th>22235</th>\n",
       "      <td>2016-07-13</td>\n",
       "      <td>2153.810059</td>\n",
       "      <td>2156.449951</td>\n",
       "      <td>2146.209961</td>\n",
       "      <td>2152.429932</td>\n",
       "      <td>2152.429932</td>\n",
       "      <td>3502320000</td>\n",
       "    </tr>\n",
       "    <tr>\n",
       "      <th>...</th>\n",
       "      <td>...</td>\n",
       "      <td>...</td>\n",
       "      <td>...</td>\n",
       "      <td>...</td>\n",
       "      <td>...</td>\n",
       "      <td>...</td>\n",
       "      <td>...</td>\n",
       "    </tr>\n",
       "    <tr>\n",
       "      <th>23318</th>\n",
       "      <td>2020-10-29</td>\n",
       "      <td>3277.169922</td>\n",
       "      <td>3341.050049</td>\n",
       "      <td>3259.820068</td>\n",
       "      <td>3310.110107</td>\n",
       "      <td>3310.110107</td>\n",
       "      <td>4903070000</td>\n",
       "    </tr>\n",
       "    <tr>\n",
       "      <th>23319</th>\n",
       "      <td>2020-10-30</td>\n",
       "      <td>3293.590088</td>\n",
       "      <td>3304.929932</td>\n",
       "      <td>3233.939941</td>\n",
       "      <td>3269.959961</td>\n",
       "      <td>3269.959961</td>\n",
       "      <td>4840450000</td>\n",
       "    </tr>\n",
       "    <tr>\n",
       "      <th>23320</th>\n",
       "      <td>2020-11-02</td>\n",
       "      <td>3296.199951</td>\n",
       "      <td>3330.139893</td>\n",
       "      <td>3279.739990</td>\n",
       "      <td>3310.239990</td>\n",
       "      <td>3310.239990</td>\n",
       "      <td>4310590000</td>\n",
       "    </tr>\n",
       "    <tr>\n",
       "      <th>23321</th>\n",
       "      <td>2020-11-03</td>\n",
       "      <td>3336.250000</td>\n",
       "      <td>3389.489990</td>\n",
       "      <td>3336.250000</td>\n",
       "      <td>3369.159912</td>\n",
       "      <td>3369.159912</td>\n",
       "      <td>4220070000</td>\n",
       "    </tr>\n",
       "    <tr>\n",
       "      <th>23322</th>\n",
       "      <td>2020-11-04</td>\n",
       "      <td>3406.459961</td>\n",
       "      <td>3486.250000</td>\n",
       "      <td>3405.169922</td>\n",
       "      <td>3443.439941</td>\n",
       "      <td>3443.439941</td>\n",
       "      <td>4783040000</td>\n",
       "    </tr>\n",
       "  </tbody>\n",
       "</table>\n",
       "<p>1092 rows × 7 columns</p>\n",
       "</div>"
      ],
      "text/plain": [
       "            Date         Open         High          Low        Close  \\\n",
       "22231 2016-07-07  2100.419922  2109.080078  2089.389893  2097.899902   \n",
       "22232 2016-07-08  2106.969971  2131.709961  2106.969971  2129.899902   \n",
       "22233 2016-07-11  2131.719971  2143.159912  2131.719971  2137.159912   \n",
       "22234 2016-07-12  2139.500000  2155.399902  2139.500000  2152.139893   \n",
       "22235 2016-07-13  2153.810059  2156.449951  2146.209961  2152.429932   \n",
       "...          ...          ...          ...          ...          ...   \n",
       "23318 2020-10-29  3277.169922  3341.050049  3259.820068  3310.110107   \n",
       "23319 2020-10-30  3293.590088  3304.929932  3233.939941  3269.959961   \n",
       "23320 2020-11-02  3296.199951  3330.139893  3279.739990  3310.239990   \n",
       "23321 2020-11-03  3336.250000  3389.489990  3336.250000  3369.159912   \n",
       "23322 2020-11-04  3406.459961  3486.250000  3405.169922  3443.439941   \n",
       "\n",
       "         Adj Close      Volume  \n",
       "22231  2097.899902  3604550000  \n",
       "22232  2129.899902  3607500000  \n",
       "22233  2137.159912  3253340000  \n",
       "22234  2152.139893  4097820000  \n",
       "22235  2152.429932  3502320000  \n",
       "...            ...         ...  \n",
       "23318  3310.110107  4903070000  \n",
       "23319  3269.959961  4840450000  \n",
       "23320  3310.239990  4310590000  \n",
       "23321  3369.159912  4220070000  \n",
       "23322  3443.439941  4783040000  \n",
       "\n",
       "[1092 rows x 7 columns]"
      ]
     },
     "execution_count": 10,
     "metadata": {},
     "output_type": "execute_result"
    }
   ],
   "source": [
    "# creating a new dataframe after applying the above filters\n",
    "S_P_df = df.loc[fiveyears]\n",
    "S_P_df"
   ]
  },
  {
   "cell_type": "code",
   "execution_count": 11,
   "id": "d3ec1a79-7eca-4d8c-87a4-d3ad4d758cdd",
   "metadata": {},
   "outputs": [],
   "source": [
    "# exporting the dataframe to csv\n",
    "S_P_df.to_csv('S_P(fiveyears).csv')"
   ]
  },
  {
   "cell_type": "markdown",
   "id": "0b2a2dff",
   "metadata": {},
   "source": [
    "# Storing file in MongoDB (DB name : Finale)"
   ]
  },
  {
   "cell_type": "code",
   "execution_count": 12,
   "id": "1ae6229e",
   "metadata": {},
   "outputs": [],
   "source": [
    "# Read in mongodb server location as client\n",
    "client = MongoClient(mongo_uri,tlsCAFile=certifi.where())"
   ]
  },
  {
   "cell_type": "code",
   "execution_count": 13,
   "id": "a96546e9",
   "metadata": {},
   "outputs": [
    {
     "data": {
      "text/plain": [
       "['Kaggle_data', 'Latest_Cryptodata', 'Latest_StockMarket', 'admin', 'local']"
      ]
     },
     "execution_count": 13,
     "metadata": {},
     "output_type": "execute_result"
    }
   ],
   "source": [
    "# Find Databases\n",
    "client.list_database_names()"
   ]
  },
  {
   "cell_type": "code",
   "execution_count": 17,
   "id": "d3344cc0",
   "metadata": {},
   "outputs": [],
   "source": [
    "# connecting to the db on MongoDb and creating collection in the db\n",
    "db = client['Kaggle_data']\n",
    "collection = db['S_P_fiveyears']"
   ]
  },
  {
   "cell_type": "code",
   "execution_count": 18,
   "id": "4a4ef0e2",
   "metadata": {},
   "outputs": [],
   "source": [
    "# adding dataframe to mongoDb\n",
    "S_P_df.reset_index(inplace=True)\n",
    "S_P_df_dict = S_P_df.to_dict(\"records\")"
   ]
  },
  {
   "cell_type": "code",
   "execution_count": 19,
   "id": "c4dd61bc",
   "metadata": {},
   "outputs": [
    {
     "data": {
      "text/plain": [
       "<pymongo.results.InsertManyResult at 0x216b73425c0>"
      ]
     },
     "execution_count": 19,
     "metadata": {},
     "output_type": "execute_result"
    }
   ],
   "source": [
    "# Insert collection\n",
    "collection.insert_many(S_P_df_dict)"
   ]
  },
  {
   "cell_type": "code",
   "execution_count": null,
   "id": "b756b167",
   "metadata": {},
   "outputs": [],
   "source": []
  }
 ],
 "metadata": {
  "kernelspec": {
   "display_name": "mlenv",
   "language": "python",
   "name": "mlenv"
  },
  "language_info": {
   "codemirror_mode": {
    "name": "ipython",
    "version": 3
   },
   "file_extension": ".py",
   "mimetype": "text/x-python",
   "name": "python",
   "nbconvert_exporter": "python",
   "pygments_lexer": "ipython3",
   "version": "3.9.7"
  }
 },
 "nbformat": 4,
 "nbformat_minor": 5
}
