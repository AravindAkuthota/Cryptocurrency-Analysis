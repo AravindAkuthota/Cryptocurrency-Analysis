{
 "cells": [
  {
   "cell_type": "markdown",
   "id": "faad3fd7",
   "metadata": {},
   "source": [
    "# Fetching Data from Coin Market Cap webpage for latest data updated every 30 seconds (https://pro.coinmarketcap.com/account/) "
   ]
  },
  {
   "cell_type": "code",
   "execution_count": 1,
   "id": "5d367ec2",
   "metadata": {},
   "outputs": [],
   "source": [
    "# import libraries\n",
    "from requests import Request, Session\n",
    "from requests.exceptions import ConnectionError, Timeout, TooManyRedirects\n",
    "import json"
   ]
  },
  {
   "cell_type": "code",
   "execution_count": 2,
   "id": "e08c3e6e",
   "metadata": {},
   "outputs": [],
   "source": [
    "# store url\n",
    "url = 'https://pro-api.coinmarketcap.com/v1/cryptocurrency/listings/latest'"
   ]
  },
  {
   "cell_type": "code",
   "execution_count": 3,
   "id": "ada74763",
   "metadata": {},
   "outputs": [],
   "source": [
    "parameters = {\n",
    "  'start':'1',\n",
    "  'limit':'5000',\n",
    "  'convert':'USD'\n",
    "}\n",
    "headers = {\n",
    "  'Accepts': 'application/json',\n",
    "  'X-CMC_PRO_API_KEY': 'b54bcf4d-1bca-4e8e-9a24-22ff2c3d462c',\n",
    "}"
   ]
  },
  {
   "cell_type": "code",
   "execution_count": 4,
   "id": "4c36a0ce",
   "metadata": {},
   "outputs": [
    {
     "name": "stdout",
     "output_type": "stream",
     "text": [
      "{'status': {'timestamp': '2022-01-13T20:21:13.128Z', 'error_code': 1001, 'error_message': 'This API Key is invalid.', 'elapsed': 0, 'credit_count': 0}}\n"
     ]
    }
   ],
   "source": [
    "session = Session()\n",
    "session.headers.update(headers)\n",
    "\n",
    "try:\n",
    "  response = session.get(url, params=parameters)\n",
    "  data = json.loads(response.text)\n",
    "  print(data)\n",
    "except (ConnectionError, Timeout, TooManyRedirects) as e:\n",
    "  print(e)"
   ]
  },
  {
   "cell_type": "code",
   "execution_count": 5,
   "id": "5f45595f",
   "metadata": {},
   "outputs": [
    {
     "data": {
      "text/plain": [
       "<requests.sessions.Session at 0x23dcecc9250>"
      ]
     },
     "execution_count": 5,
     "metadata": {},
     "output_type": "execute_result"
    }
   ],
   "source": [
    "session"
   ]
  },
  {
   "cell_type": "code",
   "execution_count": null,
   "id": "893542db",
   "metadata": {},
   "outputs": [],
   "source": []
  }
 ],
 "metadata": {
  "kernelspec": {
   "display_name": "mlenv",
   "language": "python",
   "name": "mlenv"
  },
  "language_info": {
   "codemirror_mode": {
    "name": "ipython",
    "version": 3
   },
   "file_extension": ".py",
   "mimetype": "text/x-python",
   "name": "python",
   "nbconvert_exporter": "python",
   "pygments_lexer": "ipython3",
   "version": "3.9.7"
  }
 },
 "nbformat": 4,
 "nbformat_minor": 5
}
