{
 "cells": [
  {
   "cell_type": "markdown",
   "id": "610f71f7",
   "metadata": {},
   "source": [
    "# Fetching Data from Cryptonews.com webpage for Historical Day News Data sentiment analysis for the 10 currencies for 3 years sentiment analysis - Top_sentiment_score_Oct_2020toJan_2022\n",
    "\n"
   ]
  },
  {
   "cell_type": "code",
   "execution_count": 11,
   "id": "ad43630e",
   "metadata": {},
   "outputs": [],
   "source": [
    "# import libraries\n",
    "import requests\n",
    "from requests import Session\n",
    "from requests.exceptions import ConnectionError, Timeout, TooManyRedirects\n",
    "import json\n",
    "import pandas as pd\n",
    "# from cryptocompare_config import API_Key\n",
    "from cryptonews_config import API_Key\n",
    "import numpy as np\n",
    "import pymongo\n",
    "from pymongo import MongoClient\n",
    "import certifi\n",
    "from mongo2_config import mongo_uri\n",
    "import datetime\n",
    "from pylab import rcParams\n",
    "import matplotlib.pyplot as plt\n",
    "from matplotlib import rc\n",
    "%matplotlib inline\n",
    "# %matplotlib notebook"
   ]
  },
  {
   "cell_type": "code",
   "execution_count": 17,
   "id": "7f2f7935",
   "metadata": {},
   "outputs": [
    {
     "ename": "IndentationError",
     "evalue": "unindent does not match any outer indentation level (<tokenize>, line 19)",
     "output_type": "error",
     "traceback": [
      "\u001b[1;36m  File \u001b[1;32m\"<tokenize>\"\u001b[1;36m, line \u001b[1;32m19\u001b[0m\n\u001b[1;33m    data_retrieved = requests.get(new_url).json()\u001b[0m\n\u001b[1;37m    ^\u001b[0m\n\u001b[1;31mIndentationError\u001b[0m\u001b[1;31m:\u001b[0m unindent does not match any outer indentation level\n"
     ]
    }
   ],
   "source": [
    "symbols=['BTC','ETH','XRP','USDT','ADA','XMR','XLM','BUSD','LTC','DOGE']\n",
    "#symbols=['BTC']\n",
    "# symbols={'BTH':'928962','BTC':'1182','ETH':'7605', 'XRP': '5031', 'USDT': '171986', 'ADA': '321992','XMR': '5038', 'XLM': '4614', 'BUSD' : '930595', 'LTC' : '3808', 'DOGE': '4432'}\n",
    "Top_senti_df = pd.DataFrame()\n",
    "converted_data ={}\n",
    "for symbol in symbols:\n",
    "    url = 'https://cryptonews-api.com/api/v1/stat?&tickers='\n",
    "    url = url + symbol\n",
    "    params = '&date=10302016-10302020'\n",
    "    url = url + params\n",
    "    url = url + '&token=' + API_Key \n",
    "    converted_data[symbol] = []\n",
    "    data_retrieved = requests.get(url).json()\n",
    "    url = url + '&page='\n",
    "    if 'total_pages' in data_retrieved:\n",
    "        total_pages = int(data_retrieved['total_pages'])\n",
    "        for page_num in range(total_pages):\n",
    "              new_url = url + str(page_num+1)\n",
    "            data_retrieved = requests.get(new_url).json()\n",
    "            if 'data' in data_retrieved:\n",
    "                data_retrieved_json = data_retrieved['data']\n",
    "                for key,val in data_retrieved_json.items():\n",
    "                    converted_data_temp = {}\n",
    "                    converted_data_temp['Symbol'] = symbol\n",
    "                    converted_data_temp['Date'] = key\n",
    "                    converted_data_temp['Neutral'] = val[symbol]['Neutral']\n",
    "                    converted_data_temp['Positive'] = val[symbol]['Positive']\n",
    "                    converted_data_temp['Negative'] = val[symbol]['Negative']\n",
    "                    converted_data_temp['sentiment_score'] = val[symbol]['sentiment_score']\n",
    "                    converted_data[symbol].append(converted_data_temp) \n",
    "                senti_df = pd.json_normalize(converted_data[symbol])\n",
    "                Top_senti_df = Top_senti_df.append(senti_df, ignore_index = True)\n",
    "\n",
    "Top_senti_df"
   ]
  },
  {
   "cell_type": "code",
   "execution_count": 10,
   "id": "a411f276",
   "metadata": {},
   "outputs": [
    {
     "data": {
      "text/html": [
       "<div>\n",
       "<style scoped>\n",
       "    .dataframe tbody tr th:only-of-type {\n",
       "        vertical-align: middle;\n",
       "    }\n",
       "\n",
       "    .dataframe tbody tr th {\n",
       "        vertical-align: top;\n",
       "    }\n",
       "\n",
       "    .dataframe thead th {\n",
       "        text-align: right;\n",
       "    }\n",
       "</style>\n",
       "<table border=\"1\" class=\"dataframe\">\n",
       "  <thead>\n",
       "    <tr style=\"text-align: right;\">\n",
       "      <th></th>\n",
       "    </tr>\n",
       "  </thead>\n",
       "  <tbody>\n",
       "  </tbody>\n",
       "</table>\n",
       "</div>"
      ],
      "text/plain": [
       "Empty DataFrame\n",
       "Columns: []\n",
       "Index: []"
      ]
     },
     "execution_count": 10,
     "metadata": {},
     "output_type": "execute_result"
    }
   ],
   "source": [
    "Top_senti_df"
   ]
  },
  {
   "cell_type": "markdown",
   "id": "8e6b729c",
   "metadata": {},
   "source": [
    "# Exporting data to csv"
   ]
  },
  {
   "cell_type": "code",
   "execution_count": 6,
   "id": "16482531",
   "metadata": {},
   "outputs": [],
   "source": [
    "# exporting the dataframe to csv\n",
    "Top_senti_df.to_csv('Top_Senti.csv')"
   ]
  }
 ],
 "metadata": {
  "kernelspec": {
   "display_name": "mlenv",
   "language": "python",
   "name": "mlenv"
  },
  "language_info": {
   "codemirror_mode": {
    "name": "ipython",
    "version": 3
   },
   "file_extension": ".py",
   "mimetype": "text/x-python",
   "name": "python",
   "nbconvert_exporter": "python",
   "pygments_lexer": "ipython3",
   "version": "3.9.7"
  }
 },
 "nbformat": 4,
 "nbformat_minor": 5
}
